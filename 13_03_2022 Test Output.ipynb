{
 "cells": [
  {
   "cell_type": "markdown",
   "id": "0e16712e",
   "metadata": {},
   "source": [
    "### 1. Create a program that asks the user to enter their name and their age. Print out a message that tells them the year that they will turn 100 years old"
   ]
  },
  {
   "cell_type": "code",
   "execution_count": 1,
   "id": "eee4fe64",
   "metadata": {},
   "outputs": [],
   "source": [
    "import os\n",
    "import numpy as np\n",
    "import pandas as pd\n",
    "from datetime import date"
   ]
  },
  {
   "cell_type": "code",
   "execution_count": 2,
   "id": "7c9abc33",
   "metadata": {},
   "outputs": [
    {
     "name": "stdout",
     "output_type": "stream",
     "text": [
      "Enter your age : 39\n"
     ]
    }
   ],
   "source": [
    "age = input('Enter your age : ')"
   ]
  },
  {
   "cell_type": "code",
   "execution_count": 3,
   "id": "b278eb92",
   "metadata": {},
   "outputs": [
    {
     "name": "stdout",
     "output_type": "stream",
     "text": [
      "Remaining age to reach your 100 years is :  61\n",
      "You will reach 100 years in the age of : 2083\n"
     ]
    }
   ],
   "source": [
    "todays_date = date.today()\n",
    "curr_year = todays_date.year\n",
    "rem_year = 100 - int(age)\n",
    "year_to_reach_100 = int(curr_year) + rem_year\n",
    "print(\"Remaining age to reach your 100 years is : \", rem_year)\n",
    "print(\"You will reach 100 years in the age of :\", year_to_reach_100)"
   ]
  },
  {
   "cell_type": "markdown",
   "id": "f675ffdb",
   "metadata": {},
   "source": [
    "### 2. What is pandas groupby? Demonstrate with your own example"
   ]
  },
  {
   "cell_type": "code",
   "execution_count": 4,
   "id": "ddfbf0d9",
   "metadata": {},
   "outputs": [
    {
     "data": {
      "text/plain": [
       "Riders    4\n",
       "Kings     3\n",
       "Devils    2\n",
       "Royals    2\n",
       "kings     1\n",
       "dtype: int64"
      ]
     },
     "execution_count": 4,
     "metadata": {},
     "output_type": "execute_result"
    }
   ],
   "source": [
    "# pandas group by is grouping the values in the array or a DF and printing it in the output. i have achieved it using value_counts function\n",
    "grp_data = ['Riders', 'Riders', 'Devils', 'Devils', 'Kings', 'kings', 'Kings', 'Kings', 'Riders', 'Royals', 'Royals', 'Riders']\n",
    "df = pd.DataFrame(grp_data)\n",
    "df.value_counts()"
   ]
  },
  {
   "cell_type": "code",
   "execution_count": 5,
   "id": "3e3a2fbd",
   "metadata": {},
   "outputs": [
    {
     "data": {
      "text/plain": [
       "{'Devils': [2, 3], 'Kings': [4, 6, 7], 'Riders': [0, 1, 8, 11], 'Royals': [9, 10], 'kings': [5]}"
      ]
     },
     "execution_count": 5,
     "metadata": {},
     "output_type": "execute_result"
    }
   ],
   "source": [
    "# Tried with the group by function in Pandas using dictionary but not able to achieve desired result\n",
    "grp_data = {'Teams': ['Riders', 'Riders', 'Devils', 'Devils', 'Kings', 'kings', 'Kings', 'Kings', 'Riders', 'Royals', 'Royals', 'Riders']\n",
    "            , 'Players_count': [1,2,3,4,5,6,7,8,9,10,11,12]}\n",
    "df = pd.DataFrame(grp_data)\n",
    "gk = df.groupby('Teams').groups\n",
    "gk"
   ]
  },
  {
   "cell_type": "markdown",
   "id": "c5cc574b",
   "metadata": {},
   "source": [
    "### 3. How to create a dataframe from list?"
   ]
  },
  {
   "cell_type": "code",
   "execution_count": 6,
   "id": "d82f872f",
   "metadata": {},
   "outputs": [
    {
     "data": {
      "text/plain": [
       "pandas.core.frame.DataFrame"
      ]
     },
     "execution_count": 6,
     "metadata": {},
     "output_type": "execute_result"
    }
   ],
   "source": [
    "# previous question (Question no 2), i have created dataframe using the list called grp_data\n",
    "type(df)"
   ]
  },
  {
   "cell_type": "code",
   "execution_count": 8,
   "id": "004753e5",
   "metadata": {},
   "outputs": [
    {
     "name": "stdout",
     "output_type": "stream",
     "text": [
      "   S.no     Name\n",
      "0     1     Koti\n",
      "1     2    Saran\n",
      "2     3  Rakshan\n"
     ]
    }
   ],
   "source": [
    "list1 = [[1,'Koti'],[2,'Saran'],[3,'Rakshan']]\n",
    "df1=pd.DataFrame(list1, columns=['S.no','Name'])\n",
    "print(df1)"
   ]
  },
  {
   "cell_type": "markdown",
   "id": "2ed6bd58",
   "metadata": {},
   "source": [
    "### 4. What are the ways to combine the dataframe in pandas. Give an example for each"
   ]
  },
  {
   "cell_type": "code",
   "execution_count": 10,
   "id": "ef6c2833",
   "metadata": {},
   "outputs": [
    {
     "name": "stdout",
     "output_type": "stream",
     "text": [
      "      Name  Id Subject_Id\n",
      "0     Kote   1      Maths\n",
      "1    Saran   2    English\n",
      "2  Rakshan   3      Tamil\n",
      "    Name  Id Subject_Id\n",
      "0   Gopi   1      Maths\n",
      "1  Ramya   2    English\n",
      "2  Shree   3      Tamil\n",
      "    Name_x  Id_x Subject_Id Name_y  Id_y\n",
      "0     Kote     1      Maths   Gopi     1\n",
      "1    Saran     2    English  Ramya     2\n",
      "2  Rakshan     3      Tamil  Shree     3\n"
     ]
    }
   ],
   "source": [
    "# Ways to combine the dataframe in pandas\n",
    "# 1. Merge\n",
    "# 2. concatenation\n",
    "# 3. Append\n",
    "\n",
    "# 1. Merge\n",
    "dict1={'Name':['Kote','Saran','Rakshan'],\n",
    "       'Id':[1,2,3],\n",
    "      'Subject_Id':['Maths','English','Tamil']}\n",
    "df_dict1=pd.DataFrame(dict1)\n",
    "print(df_dict1)\n",
    "dict2={'Name':['Gopi','Ramya','Shree'],\n",
    "       'Id':[1,2,3],\n",
    "      'Subject_Id':['Maths','English','Tamil']}\n",
    "df_dict2=pd.DataFrame(dict2)\n",
    "print(df_dict2)\n",
    "merge_ex = pd.merge(df_dict1, df_dict2, on = 'Subject_Id')\n",
    "print(merge_ex)"
   ]
  },
  {
   "cell_type": "code",
   "execution_count": 11,
   "id": "94a85204",
   "metadata": {},
   "outputs": [
    {
     "data": {
      "text/html": [
       "<div>\n",
       "<style scoped>\n",
       "    .dataframe tbody tr th:only-of-type {\n",
       "        vertical-align: middle;\n",
       "    }\n",
       "\n",
       "    .dataframe tbody tr th {\n",
       "        vertical-align: top;\n",
       "    }\n",
       "\n",
       "    .dataframe thead th {\n",
       "        text-align: right;\n",
       "    }\n",
       "</style>\n",
       "<table border=\"1\" class=\"dataframe\">\n",
       "  <thead>\n",
       "    <tr style=\"text-align: right;\">\n",
       "      <th></th>\n",
       "      <th>Name</th>\n",
       "      <th>Id</th>\n",
       "      <th>Subject_Id</th>\n",
       "    </tr>\n",
       "  </thead>\n",
       "  <tbody>\n",
       "    <tr>\n",
       "      <th>0</th>\n",
       "      <td>Kote</td>\n",
       "      <td>1</td>\n",
       "      <td>Maths</td>\n",
       "    </tr>\n",
       "    <tr>\n",
       "      <th>1</th>\n",
       "      <td>Saran</td>\n",
       "      <td>2</td>\n",
       "      <td>English</td>\n",
       "    </tr>\n",
       "    <tr>\n",
       "      <th>2</th>\n",
       "      <td>Rakshan</td>\n",
       "      <td>3</td>\n",
       "      <td>Tamil</td>\n",
       "    </tr>\n",
       "    <tr>\n",
       "      <th>0</th>\n",
       "      <td>Gopi</td>\n",
       "      <td>1</td>\n",
       "      <td>Maths</td>\n",
       "    </tr>\n",
       "    <tr>\n",
       "      <th>1</th>\n",
       "      <td>Ramya</td>\n",
       "      <td>2</td>\n",
       "      <td>English</td>\n",
       "    </tr>\n",
       "    <tr>\n",
       "      <th>2</th>\n",
       "      <td>Shree</td>\n",
       "      <td>3</td>\n",
       "      <td>Tamil</td>\n",
       "    </tr>\n",
       "  </tbody>\n",
       "</table>\n",
       "</div>"
      ],
      "text/plain": [
       "      Name  Id Subject_Id\n",
       "0     Kote   1      Maths\n",
       "1    Saran   2    English\n",
       "2  Rakshan   3      Tamil\n",
       "0     Gopi   1      Maths\n",
       "1    Ramya   2    English\n",
       "2    Shree   3      Tamil"
      ]
     },
     "execution_count": 11,
     "metadata": {},
     "output_type": "execute_result"
    }
   ],
   "source": [
    "# 2. Concatenation\n",
    "pd.concat([df_dict1, df_dict2])  # Row wise operation"
   ]
  },
  {
   "cell_type": "code",
   "execution_count": 12,
   "id": "85978bf5",
   "metadata": {},
   "outputs": [
    {
     "data": {
      "text/html": [
       "<div>\n",
       "<style scoped>\n",
       "    .dataframe tbody tr th:only-of-type {\n",
       "        vertical-align: middle;\n",
       "    }\n",
       "\n",
       "    .dataframe tbody tr th {\n",
       "        vertical-align: top;\n",
       "    }\n",
       "\n",
       "    .dataframe thead th {\n",
       "        text-align: right;\n",
       "    }\n",
       "</style>\n",
       "<table border=\"1\" class=\"dataframe\">\n",
       "  <thead>\n",
       "    <tr style=\"text-align: right;\">\n",
       "      <th></th>\n",
       "      <th>Name</th>\n",
       "      <th>Id</th>\n",
       "      <th>Subject_Id</th>\n",
       "      <th>Name</th>\n",
       "      <th>Id</th>\n",
       "      <th>Subject_Id</th>\n",
       "    </tr>\n",
       "  </thead>\n",
       "  <tbody>\n",
       "    <tr>\n",
       "      <th>0</th>\n",
       "      <td>Kote</td>\n",
       "      <td>1</td>\n",
       "      <td>Maths</td>\n",
       "      <td>Gopi</td>\n",
       "      <td>1</td>\n",
       "      <td>Maths</td>\n",
       "    </tr>\n",
       "    <tr>\n",
       "      <th>1</th>\n",
       "      <td>Saran</td>\n",
       "      <td>2</td>\n",
       "      <td>English</td>\n",
       "      <td>Ramya</td>\n",
       "      <td>2</td>\n",
       "      <td>English</td>\n",
       "    </tr>\n",
       "    <tr>\n",
       "      <th>2</th>\n",
       "      <td>Rakshan</td>\n",
       "      <td>3</td>\n",
       "      <td>Tamil</td>\n",
       "      <td>Shree</td>\n",
       "      <td>3</td>\n",
       "      <td>Tamil</td>\n",
       "    </tr>\n",
       "  </tbody>\n",
       "</table>\n",
       "</div>"
      ],
      "text/plain": [
       "      Name  Id Subject_Id   Name  Id Subject_Id\n",
       "0     Kote   1      Maths   Gopi   1      Maths\n",
       "1    Saran   2    English  Ramya   2    English\n",
       "2  Rakshan   3      Tamil  Shree   3      Tamil"
      ]
     },
     "execution_count": 12,
     "metadata": {},
     "output_type": "execute_result"
    }
   ],
   "source": [
    "pd.concat([df_dict1, df_dict2], axis = 1)  # column wise operation"
   ]
  },
  {
   "cell_type": "code",
   "execution_count": 13,
   "id": "221570bb",
   "metadata": {},
   "outputs": [
    {
     "data": {
      "text/html": [
       "<div>\n",
       "<style scoped>\n",
       "    .dataframe tbody tr th:only-of-type {\n",
       "        vertical-align: middle;\n",
       "    }\n",
       "\n",
       "    .dataframe tbody tr th {\n",
       "        vertical-align: top;\n",
       "    }\n",
       "\n",
       "    .dataframe thead th {\n",
       "        text-align: right;\n",
       "    }\n",
       "</style>\n",
       "<table border=\"1\" class=\"dataframe\">\n",
       "  <thead>\n",
       "    <tr style=\"text-align: right;\">\n",
       "      <th></th>\n",
       "      <th>Name</th>\n",
       "      <th>Id</th>\n",
       "      <th>Subject_Id</th>\n",
       "    </tr>\n",
       "  </thead>\n",
       "  <tbody>\n",
       "    <tr>\n",
       "      <th>0</th>\n",
       "      <td>Kote</td>\n",
       "      <td>1</td>\n",
       "      <td>Maths</td>\n",
       "    </tr>\n",
       "    <tr>\n",
       "      <th>1</th>\n",
       "      <td>Saran</td>\n",
       "      <td>2</td>\n",
       "      <td>English</td>\n",
       "    </tr>\n",
       "    <tr>\n",
       "      <th>2</th>\n",
       "      <td>Rakshan</td>\n",
       "      <td>3</td>\n",
       "      <td>Tamil</td>\n",
       "    </tr>\n",
       "    <tr>\n",
       "      <th>0</th>\n",
       "      <td>Gopi</td>\n",
       "      <td>1</td>\n",
       "      <td>Maths</td>\n",
       "    </tr>\n",
       "    <tr>\n",
       "      <th>1</th>\n",
       "      <td>Ramya</td>\n",
       "      <td>2</td>\n",
       "      <td>English</td>\n",
       "    </tr>\n",
       "    <tr>\n",
       "      <th>2</th>\n",
       "      <td>Shree</td>\n",
       "      <td>3</td>\n",
       "      <td>Tamil</td>\n",
       "    </tr>\n",
       "  </tbody>\n",
       "</table>\n",
       "</div>"
      ],
      "text/plain": [
       "      Name  Id Subject_Id\n",
       "0     Kote   1      Maths\n",
       "1    Saran   2    English\n",
       "2  Rakshan   3      Tamil\n",
       "0     Gopi   1      Maths\n",
       "1    Ramya   2    English\n",
       "2    Shree   3      Tamil"
      ]
     },
     "execution_count": 13,
     "metadata": {},
     "output_type": "execute_result"
    }
   ],
   "source": [
    "# 3. Append\n",
    "df_dict1.append(df_dict2)"
   ]
  },
  {
   "cell_type": "markdown",
   "id": "02619103",
   "metadata": {},
   "source": [
    "### 5. What is the difference between list and tuples in Python?"
   ]
  },
  {
   "cell_type": "code",
   "execution_count": 15,
   "id": "d56c3d17",
   "metadata": {},
   "outputs": [
    {
     "name": "stdout",
     "output_type": "stream",
     "text": [
      "The list values are : [1, 2, 3, 4, 5]\n",
      "the tuple values are : (1, 2, 3, 4, 5)\n",
      "Type of list_num : <class 'list'>\n",
      "Type of tup_num : <class 'tuple'>\n"
     ]
    }
   ],
   "source": [
    "# Lists and Tuples store one or more objects or values in a specific order. The objects stored in a list or tuple can be of any type.\n",
    "# Lists are surrounded by square brackets [] and uples are surrounded by parenthesis ()\n",
    "# list can be changed or modified after its creation according to needs whereas tuple has immutable nature.\n",
    "list_num = [1,2,3,4,5]\n",
    "tup_num = (1,2,3,4,5)\n",
    "print(\"The list values are :\", list_num)\n",
    "print(\"the tuple values are :\", tup_num)\n",
    "print(\"Type of list_num :\" , type(list_num))\n",
    "print(\"Type of tup_num :\" , type(tup_num))"
   ]
  },
  {
   "cell_type": "code",
   "execution_count": 16,
   "id": "d5c7e5a3",
   "metadata": {},
   "outputs": [
    {
     "name": "stdout",
     "output_type": "stream",
     "text": [
      "The old list values are : [1, 2, 3, 4, 5]\n",
      "The new values in list are : [1, 2, 3, 7, 5]\n",
      "The old tuple values are : (1, 2, 3, 4, 5)\n"
     ]
    },
    {
     "ename": "TypeError",
     "evalue": "'tuple' object does not support item assignment",
     "output_type": "error",
     "traceback": [
      "\u001b[1;31m---------------------------------------------------------------------------\u001b[0m",
      "\u001b[1;31mTypeError\u001b[0m                                 Traceback (most recent call last)",
      "\u001b[1;32m~\\AppData\\Local\\Temp/ipykernel_12552/3624248214.py\u001b[0m in \u001b[0;36m<module>\u001b[1;34m\u001b[0m\n\u001b[0;32m      5\u001b[0m \u001b[1;33m\u001b[0m\u001b[0m\n\u001b[0;32m      6\u001b[0m \u001b[0mprint\u001b[0m\u001b[1;33m(\u001b[0m\u001b[1;34m\"The old tuple values are :\"\u001b[0m\u001b[1;33m,\u001b[0m \u001b[0mtup_num\u001b[0m\u001b[1;33m)\u001b[0m\u001b[1;33m\u001b[0m\u001b[1;33m\u001b[0m\u001b[0m\n\u001b[1;32m----> 7\u001b[1;33m \u001b[0mtup_num\u001b[0m\u001b[1;33m[\u001b[0m\u001b[1;36m3\u001b[0m\u001b[1;33m]\u001b[0m \u001b[1;33m=\u001b[0m \u001b[1;36m7\u001b[0m\u001b[1;33m\u001b[0m\u001b[1;33m\u001b[0m\u001b[0m\n\u001b[0m\u001b[0;32m      8\u001b[0m \u001b[0mprint\u001b[0m\u001b[1;33m(\u001b[0m\u001b[1;34m\"The new values in tuple are :\"\u001b[0m\u001b[1;33m,\u001b[0m \u001b[0mlist_num\u001b[0m\u001b[1;33m)\u001b[0m\u001b[1;33m\u001b[0m\u001b[1;33m\u001b[0m\u001b[0m\n",
      "\u001b[1;31mTypeError\u001b[0m: 'tuple' object does not support item assignment"
     ]
    }
   ],
   "source": [
    "# tyring to modify the elements in List and tuple to show the tuple is immutable\n",
    "print(\"The old list values are :\", list_num)\n",
    "list_num[3] = 7\n",
    "print(\"The new values in list are :\", list_num)\n",
    "\n",
    "print(\"The old tuple values are :\", tup_num)\n",
    "tup_num[3] = 7\n",
    "print(\"The new values in tuple are :\", list_num)"
   ]
  },
  {
   "cell_type": "markdown",
   "id": "51fb9333",
   "metadata": {},
   "source": [
    "### 6. Find out the mean, median and standard deviation of this numpy array -> np.array([1,5,3,100,4,48])"
   ]
  },
  {
   "cell_type": "code",
   "execution_count": 17,
   "id": "b954718a",
   "metadata": {},
   "outputs": [
    {
     "name": "stdout",
     "output_type": "stream",
     "text": [
      "The mean is : 26.833333333333332\n",
      "The Median is : 4.5\n",
      "The Standard Deviation is : 36.59424666377065\n"
     ]
    }
   ],
   "source": [
    "x = np.array([1,5,3,100,4,48])\n",
    "print(\"The mean is :\", np.mean(x))\n",
    "print(\"The Median is :\", np.median(x))\n",
    "print(\"The Standard Deviation is :\", np.std(x))"
   ]
  },
  {
   "cell_type": "markdown",
   "id": "79afcf16",
   "metadata": {},
   "source": [
    "### 7. How will you remove duplicate elements from a list?"
   ]
  },
  {
   "cell_type": "code",
   "execution_count": 18,
   "id": "71db466e",
   "metadata": {},
   "outputs": [
    {
     "name": "stdout",
     "output_type": "stream",
     "text": [
      "[1 2 3 4 5 7]\n"
     ]
    }
   ],
   "source": [
    "# Using Unique function in numpy\n",
    "my_list = [1,2,2,3,3,4,5,5,5,1,2,4,7,3,5]\n",
    "list_without_dup = np.unique(my_list)\n",
    "print(list_without_dup)"
   ]
  },
  {
   "cell_type": "code",
   "execution_count": 19,
   "id": "19fc095e",
   "metadata": {},
   "outputs": [
    {
     "name": "stdout",
     "output_type": "stream",
     "text": [
      "{1, 2, 3, 4, 5, 7}\n"
     ]
    }
   ],
   "source": [
    "# Using set function\n",
    "list_without_dup1 = set(my_list)\n",
    "print(list_without_dup1)"
   ]
  },
  {
   "cell_type": "code",
   "execution_count": 20,
   "id": "32f4e5c4",
   "metadata": {},
   "outputs": [
    {
     "data": {
      "text/plain": [
       "numpy.ndarray"
      ]
     },
     "execution_count": 20,
     "metadata": {},
     "output_type": "execute_result"
    }
   ],
   "source": [
    "type(list_without_dup)"
   ]
  },
  {
   "cell_type": "code",
   "execution_count": 21,
   "id": "f7074702",
   "metadata": {},
   "outputs": [
    {
     "data": {
      "text/plain": [
       "set"
      ]
     },
     "execution_count": 21,
     "metadata": {},
     "output_type": "execute_result"
    }
   ],
   "source": [
    "type(list_without_dup1)"
   ]
  },
  {
   "cell_type": "markdown",
   "id": "bb2f7ebb",
   "metadata": {},
   "source": [
    "### 8. What is a map() function in Python? Give an example"
   ]
  },
  {
   "cell_type": "code",
   "execution_count": 22,
   "id": "68aebeeb",
   "metadata": {},
   "outputs": [],
   "source": [
    "# Python map() applies a function or an operation on all the items of an iterator given as input"
   ]
  },
  {
   "cell_type": "code",
   "execution_count": 27,
   "id": "f5e869e9",
   "metadata": {},
   "outputs": [
    {
     "name": "stdout",
     "output_type": "stream",
     "text": [
      "The existing list is : [2, 3, 4, 5, 6]\n",
      "The updated list is : [4, 9, 16, 25, 36]\n"
     ]
    }
   ],
   "source": [
    "def myMapFunc(n):\n",
    "    return n*n\n",
    "\n",
    "my_list2 = [2,3,4,5,6]\n",
    "print(\"The existing list is :\", my_list2)\n",
    "map_exp = map(myMapFunc, my_list2)\n",
    "print(\"The updated list is :\", list(map_exp))"
   ]
  },
  {
   "cell_type": "markdown",
   "id": "2228e032",
   "metadata": {},
   "source": [
    "###  9. What is pass in Python?"
   ]
  },
  {
   "cell_type": "code",
   "execution_count": 28,
   "id": "b741ac09",
   "metadata": {},
   "outputs": [
    {
     "name": "stdout",
     "output_type": "stream",
     "text": [
      "The existing list is : [2, 3, 4, 5, 6]\n",
      "The list values after using PASS statement is : [None, None, None, None, None]\n"
     ]
    }
   ],
   "source": [
    "# The pass statement is used as a placeholder for future code. \n",
    "# When the pass statement is executed, nothing happens, but you avoid getting an error when empty code is not allowed.\n",
    "\n",
    "def sampleFunc(n):\n",
    "    pass\n",
    "\n",
    "my_list3 = [2,3,4,5,6]\n",
    "print(\"The existing list is :\", my_list3)\n",
    "pass_exp = map(sampleFunc, my_list3)\n",
    "print(\"The list values after using PASS statement is :\", list(pass_exp))"
   ]
  },
  {
   "cell_type": "markdown",
   "id": "19b77261",
   "metadata": {},
   "source": [
    "### 10. What is vstack() in numpy? Give an example"
   ]
  },
  {
   "cell_type": "code",
   "execution_count": 29,
   "id": "35286e4a",
   "metadata": {},
   "outputs": [
    {
     "name": "stdout",
     "output_type": "stream",
     "text": [
      "The array value for x is : [1 2 3 4 5]\n",
      "The array value for y is : [ 6  7  8  9 10]\n",
      "The vstack array value for x & y is : [[ 1  2  3  4  5]\n",
      " [ 6  7  8  9 10]]\n"
     ]
    }
   ],
   "source": [
    "# The vstack() function is used to stack arrays in sequence vertically (row wise).\n",
    "x = np.array([1, 2, 3, 4, 5])\n",
    "y = np.array([6, 7, 8, 9, 10])\n",
    "z = np.vstack((x,y))\n",
    "print(\"The array value for x is :\", x)\n",
    "print(\"The array value for y is :\", y)\n",
    "print(\"The vstack array value for x & y is :\", z)"
   ]
  },
  {
   "cell_type": "code",
   "execution_count": 30,
   "id": "9739646c",
   "metadata": {},
   "outputs": [
    {
     "name": "stdout",
     "output_type": "stream",
     "text": [
      "The array value for x1 is : [[1]\n",
      " [2]\n",
      " [3]\n",
      " [4]\n",
      " [5]]\n",
      "The array value for y1 is : [[ 6]\n",
      " [ 7]\n",
      " [ 8]\n",
      " [ 9]\n",
      " [10]]\n",
      "The vstack array value for x1 & y1 is : [[ 1]\n",
      " [ 2]\n",
      " [ 3]\n",
      " [ 4]\n",
      " [ 5]\n",
      " [ 6]\n",
      " [ 7]\n",
      " [ 8]\n",
      " [ 9]\n",
      " [10]]\n"
     ]
    }
   ],
   "source": [
    "x1 = np.array([[1], [2], [3], [4],[ 5]])\n",
    "y1 = np.array([[6], [7], [8], [9], [10]])\n",
    "z1 = np.vstack((x1,y1))\n",
    "print(\"The array value for x1 is :\", x1)\n",
    "print(\"The array value for y1 is :\", y1)\n",
    "print(\"The vstack array value for x1 & y1 is :\", z1)"
   ]
  },
  {
   "cell_type": "code",
   "execution_count": null,
   "id": "6a6f1438",
   "metadata": {},
   "outputs": [],
   "source": []
  }
 ],
 "metadata": {
  "kernelspec": {
   "display_name": "Python 3 (ipykernel)",
   "language": "python",
   "name": "python3"
  },
  "language_info": {
   "codemirror_mode": {
    "name": "ipython",
    "version": 3
   },
   "file_extension": ".py",
   "mimetype": "text/x-python",
   "name": "python",
   "nbconvert_exporter": "python",
   "pygments_lexer": "ipython3",
   "version": "3.9.7"
  }
 },
 "nbformat": 4,
 "nbformat_minor": 5
}
